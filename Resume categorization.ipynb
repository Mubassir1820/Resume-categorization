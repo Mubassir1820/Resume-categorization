{
 "cells": [
  {
   "cell_type": "code",
   "execution_count": 1,
   "id": "c8d3f97f",
   "metadata": {},
   "outputs": [
    {
     "data": {
      "text/html": [
       "<div>\n",
       "<style scoped>\n",
       "    .dataframe tbody tr th:only-of-type {\n",
       "        vertical-align: middle;\n",
       "    }\n",
       "\n",
       "    .dataframe tbody tr th {\n",
       "        vertical-align: top;\n",
       "    }\n",
       "\n",
       "    .dataframe thead th {\n",
       "        text-align: right;\n",
       "    }\n",
       "</style>\n",
       "<table border=\"1\" class=\"dataframe\">\n",
       "  <thead>\n",
       "    <tr style=\"text-align: right;\">\n",
       "      <th></th>\n",
       "      <th>ID</th>\n",
       "      <th>Resume_str</th>\n",
       "      <th>Resume_html</th>\n",
       "      <th>Category</th>\n",
       "    </tr>\n",
       "  </thead>\n",
       "  <tbody>\n",
       "    <tr>\n",
       "      <th>0</th>\n",
       "      <td>16852973</td>\n",
       "      <td>HR ADMINISTRATOR/MARKETING ASSOCIATE\\...</td>\n",
       "      <td>&lt;div class=\"fontsize fontface vmargins hmargin...</td>\n",
       "      <td>HR</td>\n",
       "    </tr>\n",
       "    <tr>\n",
       "      <th>1</th>\n",
       "      <td>22323967</td>\n",
       "      <td>HR SPECIALIST, US HR OPERATIONS      ...</td>\n",
       "      <td>&lt;div class=\"fontsize fontface vmargins hmargin...</td>\n",
       "      <td>HR</td>\n",
       "    </tr>\n",
       "    <tr>\n",
       "      <th>2</th>\n",
       "      <td>33176873</td>\n",
       "      <td>HR DIRECTOR       Summary      Over 2...</td>\n",
       "      <td>&lt;div class=\"fontsize fontface vmargins hmargin...</td>\n",
       "      <td>HR</td>\n",
       "    </tr>\n",
       "    <tr>\n",
       "      <th>3</th>\n",
       "      <td>27018550</td>\n",
       "      <td>HR SPECIALIST       Summary    Dedica...</td>\n",
       "      <td>&lt;div class=\"fontsize fontface vmargins hmargin...</td>\n",
       "      <td>HR</td>\n",
       "    </tr>\n",
       "    <tr>\n",
       "      <th>4</th>\n",
       "      <td>17812897</td>\n",
       "      <td>HR MANAGER         Skill Highlights  ...</td>\n",
       "      <td>&lt;div class=\"fontsize fontface vmargins hmargin...</td>\n",
       "      <td>HR</td>\n",
       "    </tr>\n",
       "  </tbody>\n",
       "</table>\n",
       "</div>"
      ],
      "text/plain": [
       "         ID                                         Resume_str  \\\n",
       "0  16852973           HR ADMINISTRATOR/MARKETING ASSOCIATE\\...   \n",
       "1  22323967           HR SPECIALIST, US HR OPERATIONS      ...   \n",
       "2  33176873           HR DIRECTOR       Summary      Over 2...   \n",
       "3  27018550           HR SPECIALIST       Summary    Dedica...   \n",
       "4  17812897           HR MANAGER         Skill Highlights  ...   \n",
       "\n",
       "                                         Resume_html Category  \n",
       "0  <div class=\"fontsize fontface vmargins hmargin...       HR  \n",
       "1  <div class=\"fontsize fontface vmargins hmargin...       HR  \n",
       "2  <div class=\"fontsize fontface vmargins hmargin...       HR  \n",
       "3  <div class=\"fontsize fontface vmargins hmargin...       HR  \n",
       "4  <div class=\"fontsize fontface vmargins hmargin...       HR  "
      ]
     },
     "execution_count": 1,
     "metadata": {},
     "output_type": "execute_result"
    }
   ],
   "source": [
    "import pandas as pd\n",
    "df = pd.read_csv('Resume.csv')\n",
    "df.head()"
   ]
  },
  {
   "cell_type": "code",
   "execution_count": 2,
   "id": "874b907b",
   "metadata": {},
   "outputs": [
    {
     "data": {
      "text/plain": [
       "ID             0\n",
       "Resume_str     0\n",
       "Resume_html    0\n",
       "Category       0\n",
       "dtype: int64"
      ]
     },
     "execution_count": 2,
     "metadata": {},
     "output_type": "execute_result"
    }
   ],
   "source": [
    "# Checking to see if there are any null variables in the dataset\n",
    "df.isnull().sum()"
   ]
  },
  {
   "cell_type": "code",
   "execution_count": 3,
   "id": "4eaefcf7",
   "metadata": {},
   "outputs": [
    {
     "data": {
      "text/plain": [
       "INFORMATION-TECHNOLOGY    120\n",
       "BUSINESS-DEVELOPMENT      120\n",
       "FINANCE                   118\n",
       "ADVOCATE                  118\n",
       "ACCOUNTANT                118\n",
       "ENGINEERING               118\n",
       "CHEF                      118\n",
       "AVIATION                  117\n",
       "FITNESS                   117\n",
       "SALES                     116\n",
       "BANKING                   115\n",
       "HEALTHCARE                115\n",
       "CONSULTANT                115\n",
       "CONSTRUCTION              112\n",
       "PUBLIC-RELATIONS          111\n",
       "HR                        110\n",
       "DESIGNER                  107\n",
       "ARTS                      103\n",
       "TEACHER                   102\n",
       "APPAREL                    97\n",
       "DIGITAL-MEDIA              96\n",
       "AGRICULTURE                63\n",
       "AUTOMOBILE                 36\n",
       "BPO                        22\n",
       "Name: Category, dtype: int64"
      ]
     },
     "execution_count": 3,
     "metadata": {},
     "output_type": "execute_result"
    }
   ],
   "source": [
    "df['Category'].value_counts()"
   ]
  },
  {
   "cell_type": "code",
   "execution_count": 4,
   "id": "cff059d4",
   "metadata": {},
   "outputs": [
    {
     "data": {
      "text/plain": [
       "(2484, 4)"
      ]
     },
     "execution_count": 4,
     "metadata": {},
     "output_type": "execute_result"
    }
   ],
   "source": [
    "df.shape"
   ]
  },
  {
   "cell_type": "code",
   "execution_count": 5,
   "id": "f99163f6",
   "metadata": {},
   "outputs": [
    {
     "data": {
      "text/plain": [
       "(2484, 4)"
      ]
     },
     "execution_count": 5,
     "metadata": {},
     "output_type": "execute_result"
    }
   ],
   "source": [
    "# To drop if there are any null values\n",
    "df.dropna(inplace=True)\n",
    "df.shape"
   ]
  },
  {
   "cell_type": "code",
   "execution_count": 6,
   "id": "fda4de96",
   "metadata": {},
   "outputs": [
    {
     "data": {
      "text/plain": [
       "\"         HR ADMINISTRATOR/MARKETING ASSOCIATE\\n\\nHR ADMINISTRATOR       Summary     Dedicated Customer Service Manager with 15+ years of experience in Hospitality and Customer Service Management.   Respected builder and leader of customer-focused teams; strives to instill a shared, enthusiastic commitment to customer service.         Highlights         Focused on customer satisfaction  Team management  Marketing savvy  Conflict resolution techniques     Training and development  Skilled multi-tasker  Client relations specialist           Accomplishments      Missouri DOT Supervisor Training Certification  Certified by IHG in Customer Loyalty and Marketing by Segment   Hilton Worldwide General Manager Training Certification  Accomplished Trainer for cross server hospitality systems such as    Hilton OnQ  ,   Micros    Opera PMS   , Fidelio    OPERA    Reservation System (ORS) ,   Holidex    Completed courses and seminars in customer service, sales strategies, inventory control, loss prevention, safety, time management, leadership and performance assessment.        Experience      HR Administrator/Marketing Associate\\n\\nHR Administrator     Dec 2013   to   Current      Company Name   －   City  ,   State     Helps to develop policies, directs and coordinates activities such as employment, compensation, labor relations, benefits, training, and employee services.  Prepares employee separation notices and related documentation  Keeps records of benefits plans participation such as insurance and pension plan, personnel transactions such as hires, promotions, transfers, performance reviews, and terminations, and employee statistics for government reporting.  Advises management in appropriate resolution of employee relations issues.  Administers benefits programs such as life, health, dental, insurance, pension plans, vacation, sick leave, leave of absence, and employee assistance.     Marketing Associate \\xa0   Designed and created marketing collateral for sales meetings, trade shows and company executives.  Managed the in-house advertising program consisting of print and media collateral pieces.  Assisted in the complete design and launch of the company's website in 2 months.  Created an official company page on Facebook to facilitate interaction with customers.  Analyzed ratings and programming features of competitors to evaluate the effectiveness of marketing strategies.         Advanced Medical Claims Analyst     Mar 2012   to   Dec 2013      Company Name   －   City  ,   State     Reviewed medical bills for the accuracy of the treatments, tests, and hospital stays prior to sanctioning the claims.  Trained to interpret the codes (ICD-9, CPT) and terminology commonly used in medical billing to fully understand the paperwork that is submitted by healthcare providers.  Required to have organizational and analytical skills as well as computer skills, knowledge of medical terminology and procedures, statistics, billing standards, data analysis and laws regarding medical billing.         Assistant General Manager     Jun 2010   to   Dec 2010      Company Name   －   City  ,   State     Performed duties including but not limited to, budgeting and financial management, accounting, human resources, payroll and purchasing.  Established and maintained close working relationships with all departments of the hotel to ensure maximum operation, productivity, morale and guest service.  Handled daily operations and reported directly to the corporate office.  Hired and trained staff on overall objectives and goals with an emphasis on high customer service.  Marketing and Advertising, working on public relations with the media, government and local businesses and Chamber of Commerce.         Executive Support / Marketing Assistant     Jul 2007   to   Jun 2010      Company Name   －   City  ,   State     Provided assistance to various department heads - Executive, Marketing, Customer Service, Human Resources.  Managed front-end operations to ensure friendly and efficient transactions.  Ensured the swift resolution of customer issues to preserve customer loyalty while complying with company policies.  Exemplified the second-to-none customer service delivery in all interactions with customers and potential clients.         Reservation & Front Office Manager     Jun 2004   to   Jul 2007      Company Name   －   City  ,   State          Owner/ Partner     Dec 2001   to   May 2004      Company Name   －   City  ,   State          Price Integrity Coordinator     Aug 1999   to   Dec 2001      Company Name   －   City  ,   State          Education      N/A  ,   Business Administration   1999     Jefferson College   －   City  ,   State       Business Administration  Marketing / Advertising         High School Diploma  ,   College Prep. studies   1998     Sainte Genevieve Senior High   －   City  ,   State       Awarded American Shrubel Leadership Scholarship to Jefferson College         Skills     Accounting, ads, advertising, analytical skills, benefits, billing, budgeting, clients, Customer Service, data analysis, delivery, documentation, employee relations, financial management, government relations, Human Resources, insurance, labor relations, layout, Marketing, marketing collateral, medical billing, medical terminology, office, organizational, payroll, performance reviews, personnel, policies, posters, presentations, public relations, purchasing, reporting, statistics, website.    \""
      ]
     },
     "execution_count": 6,
     "metadata": {},
     "output_type": "execute_result"
    }
   ],
   "source": [
    "df['Resume_str'][0]"
   ]
  },
  {
   "cell_type": "code",
   "execution_count": 7,
   "id": "5194484a",
   "metadata": {},
   "outputs": [
    {
     "data": {
      "text/plain": [
       "'<div class=\"fontsize fontface vmargins hmargins linespacing pagesize\" id=\"document\"> <div class=\"section firstsection\" id=\"SECTION_NAME500375979\" style=\"\\n      padding-top:0px;\\n    \"> <div class=\"paragraph PARAGRAPH_NAME firstparagraph\" id=\"PARAGRAPH_500375979_1_326506904\" style=\"\\n      padding-top:0px;\\n    \"> <div class=\"name\" itemprop=\"name\"> <span class=\"field fName\" id=\"500375979FNAM1\"> </span> <span> </span> <span class=\"field\" id=\"500375979LNAM1\"> HR ADMINISTRATOR/MARKETING ASSOCIATE\\n\\nHR ADMINISTRATOR</span> </div> </div> </div> <div class=\"section\" id=\"SECTION_SUMM500375981\" style=\"\\n      padding-top:0px;\\n    \"> <div class=\"heading bottomborder\"> <div class=\"sectiontitle\" id=\"SECTNAME_SUMM500375981\"> Summary</div> </div> <div class=\"paragraph firstparagraph\" id=\"PARAGRAPH_500375981_1_326506917\" style=\"\\n      padding-top:0px;\\n    \"> <div class=\"field singlecolumn\" id=\"500375981FRFM1\"> <p align=\"LEFT\"> Dedicated Customer Service Manager with 15+ years of experience in Hospitality and Customer Service Management. </p> <p align=\"LEFT\"> Respected builder and leader of customer-focused teams; strives to instill a shared, enthusiastic commitment to customer service.  </p> </div> </div> </div> <div class=\"section\" id=\"SECTION_HILT500375982\" style=\"\\n      padding-top:0px;\\n    \"> <div class=\"heading bottomborder\"> <div class=\"sectiontitle\" id=\"SECTNAME_HILT500375982\"> Highlights</div> </div> <div class=\"paragraph firstparagraph\" id=\"PARAGRAPH_500375982_1_326509244\" style=\"\\n      padding-top:0px;\\n    \"> <div class=\"singlecolumn maincolumn\"> <table class=\"twocol\"> <tbody> <tr> <td class=\"field twocol_1\" id=\"500375982SKC11\"> <p align=\"CENTER\"> Focused on customer satisfaction</p> <p align=\"CENTER\"> Team management</p> <p align=\"CENTER\"> Marketing savvy</p> <p align=\"CENTER\"> Conflict resolution techniques</p> <br/> </td> <td class=\"field twocol_2\" id=\"500375982SKC21\"> <p align=\"CENTER\"> Training and development</p> <p align=\"CENTER\"> Skilled multi-tasker</p> <p align=\"CENTER\"> Client relations specialist</p> </td> </tr> </tbody> </table> </div> </div> </div> <div class=\"section\" id=\"SECTION_ACCM500375993\" style=\"\\n      padding-top:0px;\\n    \"> <div class=\"heading bottomborder\"> <div class=\"sectiontitle\" id=\"SECTNAME_ACCM500375993\"> Accomplishments</div> </div> <div class=\"paragraph firstparagraph\" id=\"PARAGRAPH_500375993_1_326506914\" style=\"\\n      padding-top:0px;\\n    \"> <div class=\"field singlecolumn\" id=\"500375993FRFM1\"> <ul> <li> Missouri DOT Supervisor Training Certification</li> <li> Certified by IHG in Customer Loyalty and Marketing by Segment </li> <li> Hilton Worldwide General Manager Training Certification</li> <li> Accomplished Trainer for cross server hospitality systems such as  <b> <u> Hilton OnQ</u> </b> ,  <u> Micros </u> <b> <u> Opera PMS</u> </b> <u> , Fidelio </u> <b> <u> OPERA</u> </b> <u>  Reservation System (ORS)</u> , <b> <u> Holidex</u> </b> </li> <li> Completed courses and seminars in customer service, sales strategies, inventory control, loss prevention, safety, time management, leadership and performance assessment.</li> </ul> </div> </div> </div> <div class=\"section\" id=\"SECTION_EXPR500375983\" style=\"\\n      padding-top:0px;\\n    \"> <div class=\"heading bottomborder\"> <div class=\"sectiontitle\" id=\"SECTNAME_EXPR500375983\"> Experience</div> </div> <div class=\"paragraph firstparagraph\" id=\"PARAGRAPH_500375983_1_326506906\" itemscope=\"\" itemtype=\"https://schema.org/Organization\" style=\"\\n      padding-top:0px;\\n    \"> <div class=\"singlecolumn\"> <span class=\"paddedline\"> <span class=\"jobtitle\" id=\"500375983JTIT1\"> HR Administrator/Marketing Associate\\n\\nHR Administrator</span> <span> </span> <span class=\"datesWrapper\"> <span class=\"jobdates\" format=\"%b %Y\" id=\"500375983JSTD1\"> Dec 2013</span> <span>  to </span> <span class=\"jobdates\" format=\"%b %Y\" id=\"500375983EDDT1\"> Current</span> <br/> </span> </span> <span class=\"paddedline\" itemscope=\"\" itemtype=\"https://schema.org/postalAddress\"> <span class=\"companyname\" id=\"500375983COMP1\" itemprop=\"name\"> Company Name</span> <span>  － </span> <span class=\"joblocation jobcity\" id=\"500375983JCIT1\" itemprop=\"addressLocality\"> City</span> <span> , </span> <span class=\"joblocation jobstate\" id=\"500375983JSTA1\" itemprop=\"addressRegion\"> State</span> </span> <span class=\"jobline\" id=\"500375983JDES1\" itemprop=\"description\"> <ul> <li> Helps to develop policies, directs and coordinates activities such as employment, compensation, labor relations, benefits, training, and employee services.</li> <li> Prepares employee separation notices and related documentation</li> <li> Keeps records of benefits plans participation such as insurance and pension plan, personnel transactions such as hires, promotions, transfers, performance reviews, and terminations, and employee statistics for government reporting.</li> <li> Advises management in appropriate resolution of employee relations issues.</li> <li> Administers benefits programs such as life, health, dental, insurance, pension plans, vacation, sick leave, leave of absence, and employee assistance.</li> </ul> <br/> <p align=\"LEFT\"> <b> Marketing Associate</b> \\xa0</p> <ul> <li> Designed and created marketing collateral for sales meetings, trade shows and company executives.</li> <li> Managed the in-house advertising program consisting of print and media collateral pieces.</li> <li> Assisted in the complete design and launch of the company\\'s website in 2 months.</li> <li> Created an official company page on Facebook to facilitate interaction with customers.</li> <li> Analyzed ratings and programming features of competitors to evaluate the effectiveness of marketing strategies.</li> </ul> </span> </div> </div> <div class=\"paragraph\" id=\"PARAGRAPH_500375983_2_326506907\" itemscope=\"\" itemtype=\"https://schema.org/Organization\" style=\"\\n      padding-top:10px;\\n    \"> <div class=\"singlecolumn\"> <span class=\"paddedline\"> <span class=\"jobtitle\" id=\"500375983JTIT2\"> Advanced Medical Claims Analyst</span> <span> </span> <span class=\"datesWrapper\"> <span class=\"jobdates\" format=\"%b %Y\" id=\"500375983JSTD2\"> Mar 2012</span> <span>  to </span> <span class=\"jobdates\" format=\"%b %Y\" id=\"500375983EDDT2\"> Dec 2013</span> <br/> </span> </span> <span class=\"paddedline\" itemscope=\"\" itemtype=\"https://schema.org/postalAddress\"> <span class=\"companyname\" id=\"500375983COMP2\" itemprop=\"name\"> Company Name</span> <span>  － </span> <span class=\"joblocation jobcity\" id=\"500375983JCIT2\" itemprop=\"addressLocality\"> City</span> <span> , </span> <span class=\"joblocation jobstate\" id=\"500375983JSTA2\" itemprop=\"addressRegion\"> State</span> </span> <span class=\"jobline\" id=\"500375983JDES2\" itemprop=\"description\"> <ul> <li> Reviewed medical bills for the accuracy of the treatments, tests, and hospital stays prior to sanctioning the claims.</li> <li> Trained to interpret the codes (ICD-9, CPT) and terminology commonly used in medical billing to fully understand the paperwork that is submitted by healthcare providers.</li> <li> Required to have organizational and analytical skills as well as computer skills, knowledge of medical terminology and procedures, statistics, billing standards, data analysis and laws regarding medical billing.</li> </ul> </span> </div> </div> <div class=\"paragraph\" id=\"PARAGRAPH_500375983_3_326506908\" itemscope=\"\" itemtype=\"https://schema.org/Organization\" style=\"\\n      padding-top:15px;\\n    \"> <div class=\"singlecolumn\"> <span class=\"paddedline\"> <span class=\"jobtitle\" id=\"500375983JTIT3\"> Assistant General Manager</span> <span> </span> <span class=\"datesWrapper\"> <span class=\"jobdates\" format=\"%b %Y\" id=\"500375983JSTD3\"> Jun 2010</span> <span>  to </span> <span class=\"jobdates\" format=\"%b %Y\" id=\"500375983EDDT3\"> Dec 2010</span> <br/> </span> </span> <span class=\"paddedline\" itemscope=\"\" itemtype=\"https://schema.org/postalAddress\"> <span class=\"companyname\" id=\"500375983COMP3\" itemprop=\"name\"> Company Name</span> <span>  － </span> <span class=\"joblocation jobcity\" id=\"500375983JCIT3\" itemprop=\"addressLocality\"> City</span> <span> , </span> <span class=\"joblocation jobstate\" id=\"500375983JSTA3\" itemprop=\"addressRegion\"> State</span> </span> <span class=\"jobline\" id=\"500375983JDES3\" itemprop=\"description\"> <ul> <li> Performed duties including but not limited to, budgeting and financial management, accounting, human resources, payroll and purchasing.</li> <li> Established and maintained close working relationships with all departments of the hotel to ensure maximum operation, productivity, morale and guest service.</li> <li> Handled daily operations and reported directly to the corporate office.</li> <li> Hired and trained staff on overall objectives and goals with an emphasis on high customer service.</li> <li> Marketing and Advertising, working on public relations with the media, government and local businesses and Chamber of Commerce.</li> </ul> </span> </div> </div> <div class=\"paragraph\" id=\"PARAGRAPH_500375983_4_326506910\" itemscope=\"\" itemtype=\"https://schema.org/Organization\" style=\"\\n      padding-top:5px;\\n    \"> <div class=\"singlecolumn\"> <span class=\"paddedline\"> <span class=\"jobtitle\" id=\"500375983JTIT4\"> Executive Support / Marketing Assistant</span> <span> </span> <span class=\"datesWrapper\"> <span class=\"jobdates\" format=\"%b %Y\" id=\"500375983JSTD4\"> Jul 2007</span> <span>  to </span> <span class=\"jobdates\" format=\"%b %Y\" id=\"500375983EDDT4\"> Jun 2010</span> <br/> </span> </span> <span class=\"paddedline\" itemscope=\"\" itemtype=\"https://schema.org/postalAddress\"> <span class=\"companyname\" id=\"500375983COMP4\" itemprop=\"name\"> Company Name</span> <span>  － </span> <span class=\"joblocation jobcity\" id=\"500375983JCIT4\" itemprop=\"addressLocality\"> City</span> <span> , </span> <span class=\"joblocation jobstate\" id=\"500375983JSTA4\" itemprop=\"addressRegion\"> State</span> </span> <span class=\"jobline\" id=\"500375983JDES4\" itemprop=\"description\"> <ul> <li> Provided assistance to various department heads - Executive, Marketing, Customer Service, Human Resources.</li> <li> Managed front-end operations to ensure friendly and efficient transactions.</li> <li> Ensured the swift resolution of customer issues to preserve customer loyalty while complying with company policies.</li> <li> Exemplified the second-to-none customer service delivery in all interactions with customers and potential clients.</li> </ul> </span> </div> </div> <div class=\"paragraph\" id=\"PARAGRAPH_500375983_5_326506911\" itemscope=\"\" itemtype=\"https://schema.org/Organization\" style=\"\\n      padding-top:10px;\\n    \"> <div class=\"singlecolumn\"> <span class=\"paddedline\"> <span class=\"jobtitle\" id=\"500375983JTIT5\"> Reservation &amp; Front Office Manager</span> <span> </span> <span class=\"datesWrapper\"> <span class=\"jobdates\" format=\"%b %Y\" id=\"500375983JSTD5\"> Jun 2004</span> <span>  to </span> <span class=\"jobdates\" format=\"%b %Y\" id=\"500375983EDDT5\"> Jul 2007</span> <br/> </span> </span> <span class=\"paddedline\" itemscope=\"\" itemtype=\"https://schema.org/postalAddress\"> <span class=\"companyname\" id=\"500375983COMP5\" itemprop=\"name\"> Company Name</span> <span>  － </span> <span class=\"joblocation jobcity\" id=\"500375983JCIT5\" itemprop=\"addressLocality\"> City</span> <span> , </span> <span class=\"joblocation jobstate\" id=\"500375983JSTA5\" itemprop=\"addressRegion\"> State</span> </span> <span class=\"jobline\" id=\"500375983JDES5\" itemprop=\"description\"> </span> </div> </div> <div class=\"paragraph\" id=\"PARAGRAPH_500375983_6_326506912\" itemscope=\"\" itemtype=\"https://schema.org/Organization\" style=\"\\n      padding-top:10px;\\n    \"> <div class=\"singlecolumn\"> <span class=\"paddedline\"> <span class=\"jobtitle\" id=\"500375983JTIT6\"> Owner/ Partner</span> <span> </span> <span class=\"datesWrapper\"> <span class=\"jobdates\" format=\"%b %Y\" id=\"500375983JSTD6\"> Dec 2001</span> <span>  to </span> <span class=\"jobdates\" format=\"%b %Y\" id=\"500375983EDDT6\"> May 2004</span> <br/> </span> </span> <span class=\"paddedline\" itemscope=\"\" itemtype=\"https://schema.org/postalAddress\"> <span class=\"companyname\" id=\"500375983COMP6\" itemprop=\"name\"> Company Name</span> <span>  － </span> <span class=\"joblocation jobcity\" id=\"500375983JCIT6\" itemprop=\"addressLocality\"> City</span> <span> , </span> <span class=\"joblocation jobstate\" id=\"500375983JSTA6\" itemprop=\"addressRegion\"> State</span> </span> <span class=\"jobline\" id=\"500375983JDES6\" itemprop=\"description\"> </span> </div> </div> <div class=\"paragraph\" id=\"PARAGRAPH_500375983_7_326506913\" itemscope=\"\" itemtype=\"https://schema.org/Organization\" style=\"\\n      padding-top:10px;\\n    \"> <div class=\"singlecolumn\"> <span class=\"paddedline\"> <span class=\"jobtitle\" id=\"500375983JTIT7\"> Price Integrity Coordinator</span> <span> </span> <span class=\"datesWrapper\"> <span class=\"jobdates\" format=\"%b %Y\" id=\"500375983JSTD7\"> Aug 1999</span> <span>  to </span> <span class=\"jobdates\" format=\"%b %Y\" id=\"500375983EDDT7\"> Dec 2001</span> <br/> </span> </span> <span class=\"paddedline\" itemscope=\"\" itemtype=\"https://schema.org/postalAddress\"> <span class=\"companyname\" id=\"500375983COMP7\" itemprop=\"name\"> Company Name</span> <span>  － </span> <span class=\"joblocation jobcity\" id=\"500375983JCIT7\" itemprop=\"addressLocality\"> City</span> <span> , </span> <span class=\"joblocation jobstate\" id=\"500375983JSTA7\" itemprop=\"addressRegion\"> State</span> </span> <span class=\"jobline\" id=\"500375983JDES7\" itemprop=\"description\"> </span> </div> </div> </div> <div class=\"section\" id=\"SECTION_EDUC500400498\" style=\"\\n      padding-top:0px;\\n    \"> <div class=\"heading bottomborder\"> <div class=\"sectiontitle\" id=\"SECTNAME_EDUC500400498\"> Education</div> </div> <div class=\"paragraph firstparagraph\" id=\"PARAGRAPH_500400498_1_326523310\" itemscope=\"\" itemtype=\"https://schema.org/EducationalOrganization\" style=\"\\n      padding-top:0px;\\n    \"> <div class=\"singlecolumn\"> <span class=\"paddedline\" itemprop=\"description\"> <span class=\"degree\" id=\"500400498DGRE1\" itemprop=\"name\"> N/A</span> <span> , </span> <span class=\"programline\" id=\"500400498STUY1\"> Business Administration</span> <span class=\"datesWrapper\"> <span class=\"jobdates\" id=\"500400498GRYR1\"> 1999</span> </span> </span> <span class=\"paddedline\"> <span class=\"companyname companyname_educ\" id=\"500400498SCHO1\" itemprop=\"name\"> Jefferson College</span> <span>  － </span> <span class=\"joblocation jobcity\" id=\"500400498SCIT1\"> City</span> <span> , </span> <span class=\"joblocation jobstate\" id=\"500400498SSTA1\"> State</span> <span class=\"joblocation jobstate\" id=\"500400498SCNT1\"> </span> </span> <span class=\"field\" id=\"500400498FRFM1\"> <ul> <li> Business Administration</li> <li> Marketing / Advertising</li> </ul> </span> </div> </div> <div class=\"paragraph\" id=\"PARAGRAPH_500400498_2_326522471\" itemscope=\"\" itemtype=\"https://schema.org/EducationalOrganization\" style=\"\\n      padding-top:0px;\\n    \"> <div class=\"singlecolumn\"> <span class=\"paddedline\" itemprop=\"description\"> <span class=\"degree\" id=\"500400498DGRE2\" itemprop=\"name\"> High School Diploma</span> <span> , </span> <span class=\"programline\" id=\"500400498STUY2\"> College Prep. studies</span> <span class=\"datesWrapper\"> <span class=\"jobdates\" id=\"500400498GRYR2\"> 1998</span> </span> </span> <span class=\"paddedline\"> <span class=\"companyname companyname_educ\" id=\"500400498SCHO2\" itemprop=\"name\"> Sainte Genevieve Senior High</span> <span>  － </span> <span class=\"joblocation jobcity\" id=\"500400498SCIT2\"> City</span> <span> , </span> <span class=\"joblocation jobstate\" id=\"500400498SSTA2\"> State</span> <span class=\"joblocation jobstate\" id=\"500400498SCNT2\"> </span> </span> <span class=\"field\" id=\"500400498FRFM2\"> <ul> <li> Awarded American Shrubel Leadership Scholarship to Jefferson College</li> </ul> </span> </div> </div> </div> <div class=\"section\" id=\"SECTION_SKLL500375994\" style=\"\\n      padding-top:0px;\\n    \"> <div class=\"heading bottomborder\"> <div class=\"sectiontitle\" id=\"SECTNAME_SKLL500375994\"> Skills</div> </div> <div class=\"paragraph firstparagraph\" id=\"PARAGRAPH_500375994_1_326506918\" style=\"\\n      padding-top:0px;\\n    \"> <div class=\"field singlecolumn\" id=\"500375994FRFM1\"> <p align=\"LEFT\"> Accounting, ads, advertising, analytical skills, benefits, billing, budgeting, clients, Customer Service, data analysis, delivery, documentation, employee relations, financial management, government relations, Human Resources, insurance, labor relations, layout, Marketing, marketing collateral, medical billing, medical terminology, office, organizational, payroll, performance reviews, personnel, policies, posters, presentations, public relations, purchasing, reporting, statistics, website.</p> </div> </div> </div> </div>'"
      ]
     },
     "execution_count": 7,
     "metadata": {},
     "output_type": "execute_result"
    }
   ],
   "source": [
    "df['Resume_html'][0]"
   ]
  },
  {
   "cell_type": "code",
   "execution_count": 8,
   "id": "dc91bcc0",
   "metadata": {},
   "outputs": [
    {
     "data": {
      "text/html": [
       "<div>\n",
       "<style scoped>\n",
       "    .dataframe tbody tr th:only-of-type {\n",
       "        vertical-align: middle;\n",
       "    }\n",
       "\n",
       "    .dataframe tbody tr th {\n",
       "        vertical-align: top;\n",
       "    }\n",
       "\n",
       "    .dataframe thead th {\n",
       "        text-align: right;\n",
       "    }\n",
       "</style>\n",
       "<table border=\"1\" class=\"dataframe\">\n",
       "  <thead>\n",
       "    <tr style=\"text-align: right;\">\n",
       "      <th></th>\n",
       "      <th>Resume_str</th>\n",
       "      <th>Category</th>\n",
       "    </tr>\n",
       "  </thead>\n",
       "  <tbody>\n",
       "    <tr>\n",
       "      <th>0</th>\n",
       "      <td>HR ADMINISTRATOR/MARKETING ASSOCIATE\\...</td>\n",
       "      <td>HR</td>\n",
       "    </tr>\n",
       "    <tr>\n",
       "      <th>1</th>\n",
       "      <td>HR SPECIALIST, US HR OPERATIONS      ...</td>\n",
       "      <td>HR</td>\n",
       "    </tr>\n",
       "    <tr>\n",
       "      <th>2</th>\n",
       "      <td>HR DIRECTOR       Summary      Over 2...</td>\n",
       "      <td>HR</td>\n",
       "    </tr>\n",
       "    <tr>\n",
       "      <th>3</th>\n",
       "      <td>HR SPECIALIST       Summary    Dedica...</td>\n",
       "      <td>HR</td>\n",
       "    </tr>\n",
       "    <tr>\n",
       "      <th>4</th>\n",
       "      <td>HR MANAGER         Skill Highlights  ...</td>\n",
       "      <td>HR</td>\n",
       "    </tr>\n",
       "    <tr>\n",
       "      <th>...</th>\n",
       "      <td>...</td>\n",
       "      <td>...</td>\n",
       "    </tr>\n",
       "    <tr>\n",
       "      <th>2479</th>\n",
       "      <td>RANK: SGT/E-5 NON- COMMISSIONED OFFIC...</td>\n",
       "      <td>AVIATION</td>\n",
       "    </tr>\n",
       "    <tr>\n",
       "      <th>2480</th>\n",
       "      <td>GOVERNMENT RELATIONS, COMMUNICATIONS ...</td>\n",
       "      <td>AVIATION</td>\n",
       "    </tr>\n",
       "    <tr>\n",
       "      <th>2481</th>\n",
       "      <td>GEEK SQUAD AGENT         Professional...</td>\n",
       "      <td>AVIATION</td>\n",
       "    </tr>\n",
       "    <tr>\n",
       "      <th>2482</th>\n",
       "      <td>PROGRAM DIRECTOR / OFFICE MANAGER    ...</td>\n",
       "      <td>AVIATION</td>\n",
       "    </tr>\n",
       "    <tr>\n",
       "      <th>2483</th>\n",
       "      <td>STOREKEEPER II       Professional Sum...</td>\n",
       "      <td>AVIATION</td>\n",
       "    </tr>\n",
       "  </tbody>\n",
       "</table>\n",
       "<p>2484 rows × 2 columns</p>\n",
       "</div>"
      ],
      "text/plain": [
       "                                             Resume_str  Category\n",
       "0              HR ADMINISTRATOR/MARKETING ASSOCIATE\\...        HR\n",
       "1              HR SPECIALIST, US HR OPERATIONS      ...        HR\n",
       "2              HR DIRECTOR       Summary      Over 2...        HR\n",
       "3              HR SPECIALIST       Summary    Dedica...        HR\n",
       "4              HR MANAGER         Skill Highlights  ...        HR\n",
       "...                                                 ...       ...\n",
       "2479           RANK: SGT/E-5 NON- COMMISSIONED OFFIC...  AVIATION\n",
       "2480           GOVERNMENT RELATIONS, COMMUNICATIONS ...  AVIATION\n",
       "2481           GEEK SQUAD AGENT         Professional...  AVIATION\n",
       "2482           PROGRAM DIRECTOR / OFFICE MANAGER    ...  AVIATION\n",
       "2483           STOREKEEPER II       Professional Sum...  AVIATION\n",
       "\n",
       "[2484 rows x 2 columns]"
      ]
     },
     "execution_count": 8,
     "metadata": {},
     "output_type": "execute_result"
    }
   ],
   "source": [
    "# Dropping ID, resume_html columns\n",
    "df.drop(columns = ['ID', 'Resume_html'], inplace = True)\n",
    "df"
   ]
  },
  {
   "cell_type": "markdown",
   "id": "4f6e6730",
   "metadata": {},
   "source": [
    "# Data Preprocessing"
   ]
  },
  {
   "cell_type": "code",
   "execution_count": 9,
   "id": "696207d7",
   "metadata": {},
   "outputs": [],
   "source": [
    "import nltk\n",
    "from nltk.stem import PorterStemmer, WordNetLemmatizer\n",
    "from nltk.tokenize import sent_tokenize, word_tokenize\n",
    "from nltk.corpus import stopwords\n",
    "import re"
   ]
  },
  {
   "cell_type": "code",
   "execution_count": 10,
   "id": "d393eebe",
   "metadata": {},
   "outputs": [],
   "source": [
    "stemmer = nltk.stem.porter.PorterStemmer()\n",
    "\n",
    "def preprocess(text):\n",
    "    ### Convert to lower case\n",
    "    text = text.lower()\n",
    "    \n",
    "    ### Remove integers, punctuations with the help of Regular Expression\n",
    "    text = re.sub('[^a-zA-Z]',' ', text)\n",
    "    # Tokenization\n",
    "    text = nltk.tokenize.word_tokenize(text)\n",
    "    # Removing stop words\n",
    "    text = [i for i in text if not i in nltk.corpus.stopwords.words('english')]\n",
    "    # Stemming\n",
    "    text = [stemmer.stem(i) for i in text]\n",
    "    \n",
    "    return ' '.join(text)"
   ]
  },
  {
   "cell_type": "code",
   "execution_count": 13,
   "id": "9836d999",
   "metadata": {},
   "outputs": [
    {
     "data": {
      "text/plain": [
       "'what friend'"
      ]
     },
     "execution_count": 13,
     "metadata": {},
     "output_type": "execute_result"
    }
   ],
   "source": [
    "preprocess('whats     up my 9friends')"
   ]
  },
  {
   "cell_type": "code",
   "execution_count": null,
   "id": "fdd96052",
   "metadata": {},
   "outputs": [],
   "source": []
  }
 ],
 "metadata": {
  "kernelspec": {
   "display_name": "Python 3 (ipykernel)",
   "language": "python",
   "name": "python3"
  },
  "language_info": {
   "codemirror_mode": {
    "name": "ipython",
    "version": 3
   },
   "file_extension": ".py",
   "mimetype": "text/x-python",
   "name": "python",
   "nbconvert_exporter": "python",
   "pygments_lexer": "ipython3",
   "version": "3.9.12"
  }
 },
 "nbformat": 4,
 "nbformat_minor": 5
}
